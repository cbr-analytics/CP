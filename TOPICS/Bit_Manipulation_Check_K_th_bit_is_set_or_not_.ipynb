{
  "nbformat": 4,
  "nbformat_minor": 0,
  "metadata": {
    "colab": {
      "provenance": []
    },
    "kernelspec": {
      "name": "python3",
      "display_name": "Python 3"
    },
    "language_info": {
      "name": "python"
    }
  },
  "cells": [
    {
      "cell_type": "markdown",
      "source": [
        "Before we get into checking if kth biit of a number is set or not, lets revise following two topics.\n",
        "- Bitwise left shift operator : <<\n",
        "- Bitwise right shift operator: >>"
      ],
      "metadata": {
        "id": "tuB_VeDWe-Jm"
      }
    },
    {
      "cell_type": "code",
      "execution_count": 2,
      "metadata": {
        "colab": {
          "base_uri": "https://localhost:8080/"
        },
        "id": "vcAaVGQUbX5U",
        "outputId": "4c102f7c-d0d1-4a13-dfd7-2adca8d5b22b"
      },
      "outputs": [
        {
          "output_type": "stream",
          "name": "stdout",
          "text": [
            "10\n",
            "20\n"
          ]
        }
      ],
      "source": [
        "# left shift\n",
        "\"\"\"\n",
        "Binary of number 5 = 101 (binary)\n",
        "After left shifting bit-1 it become = 1010 i.e. 10 \n",
        "\"\"\"\n",
        "print(5<<1) # left shift by 1, the binary 101 changes to 1010 \n",
        "print(5<<2) # left shift by 2, the binary 101 changes to 10100 = 2^4+ 0 + 2^2 + 0 + 0 = 16+4 = 20 "
      ]
    },
    {
      "cell_type": "code",
      "source": [
        "# right shift\n",
        "\"\"\"\n",
        "Binary of number 5 = 101 (binary)\n",
        "After left shifting bit-1 it become = 1010 i.e. 10 \n",
        "\"\"\"\n",
        "print(5>>1) # right shift by 1, the binary 101 changes to 10 \n",
        "print(5>>2) # right shift by 2, the binary 101 changes to 1"
      ],
      "metadata": {
        "colab": {
          "base_uri": "https://localhost:8080/"
        },
        "id": "dN1q_b_rfhpz",
        "outputId": "d9755b2e-305d-49c4-d459-8bb81404cbce"
      },
      "execution_count": 5,
      "outputs": [
        {
          "output_type": "stream",
          "name": "stdout",
          "text": [
            "2\n",
            "1\n"
          ]
        }
      ]
    },
    {
      "cell_type": "markdown",
      "source": [
        "Explanation:\n",
        "Check if kth bit is set or not.\n",
        "https://www.youtube.com/watch?v=AJHChZK12PI\n",
        "\n",
        "Get bitwise and(&) of below two items:\n",
        "- the number `n` \n",
        "- bitwise left-shit 1 by k-1\n",
        "\n",
        "if the above codition is TRUE, the kth bit of the number `n` is SET.\n",
        "else the kth elment of the number `n` is NOTSET."
      ],
      "metadata": {
        "id": "LcVJrpQ2hGY_"
      }
    },
    {
      "cell_type": "code",
      "source": [
        "\"\"\"\n",
        "TIME COMPLEXISTY = O(1)\n",
        "\"\"\"\n",
        "N, k = map(int, input().split()) # get the nubmer and kth bit to check if set or not\n",
        "\n",
        "if N & (1 << (k-1)):\n",
        "  print(f\"{k}th bit is SET!!\")\n",
        "else:\n",
        "  print(f\"{k}th bit is NOT-SET!!\")"
      ],
      "metadata": {
        "colab": {
          "base_uri": "https://localhost:8080/"
        },
        "id": "u_1hicShgoNU",
        "outputId": "8335db7b-b8a2-45e6-a341-09ffdde01ab9"
      },
      "execution_count": 11,
      "outputs": [
        {
          "output_type": "stream",
          "name": "stdout",
          "text": [
            "75 4\n",
            "4th bit is SET!!\n"
          ]
        }
      ]
    },
    {
      "cell_type": "markdown",
      "source": [
        "## PROBLEM:\n",
        "\n",
        "In a given array or list find how many elements have kth bit set."
      ],
      "metadata": {
        "id": "Pc00W8b1jlNR"
      }
    },
    {
      "cell_type": "code",
      "source": [
        "\"\"\"\n",
        "Time COMLEXISTY = O(N)\n",
        "\"\"\"\n",
        "\n",
        "A = list(map(int, input().split()))\n",
        "k = int(input()) \n",
        "c = 0\n",
        "for e in A:\n",
        "  if e & (1<<(k-1)):\n",
        "    c = c+1\n",
        "print(c)"
      ],
      "metadata": {
        "colab": {
          "base_uri": "https://localhost:8080/"
        },
        "id": "tX1VqqeGiMhZ",
        "outputId": "e2b53b7b-2928-44ce-ec12-78ae1c094d69"
      },
      "execution_count": 13,
      "outputs": [
        {
          "output_type": "stream",
          "name": "stdout",
          "text": [
            "75 5\n",
            "3\n",
            "1\n"
          ]
        }
      ]
    },
    {
      "cell_type": "code",
      "source": [],
      "metadata": {
        "id": "ZNvEOUmukJLz"
      },
      "execution_count": null,
      "outputs": []
    }
  ]
}