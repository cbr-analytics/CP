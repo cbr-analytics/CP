{
  "nbformat": 4,
  "nbformat_minor": 0,
  "metadata": {
    "colab": {
      "provenance": []
    },
    "kernelspec": {
      "name": "python3",
      "display_name": "Python 3"
    },
    "language_info": {
      "name": "python"
    }
  },
  "cells": [
    {
      "cell_type": "markdown",
      "source": [
        "Useful links:\n",
        "- Binary to Decimal or number converter: https://www.rapidtables.com/convert/number/binary-to-decimal.html\n",
        "\n",
        "- https://www.geeksforgeeks.org/tag/xor/\n"
      ],
      "metadata": {
        "id": "uWqkz0R3Q7eB"
      }
    },
    {
      "cell_type": "markdown",
      "source": [
        "### Q 1. XOR of all Array elements that are perfect squares: Given an array arr[] containing N integers, the task is to find the XOR of all the elements of this array that are perfect squares.\n",
        "\n",
        "https://www.geeksforgeeks.org/xor-of-all-array-elements-that-are-perfect-squares/"
      ],
      "metadata": {
        "id": "mF-vRCzMJN9C"
      }
    },
    {
      "cell_type": "code",
      "source": [
        "## V1.2\n",
        "\"\"\"\n",
        "Time-complexity: O(N)\n",
        "\"\"\"\n",
        "import math\n",
        "\n",
        "T = int(input()) # Number of inp\n",
        "\n",
        "for _ in range(T):\n",
        "  N = int(input()) # Number of array elements\n",
        "  A = list(map(int, input().split())) # Array input\n",
        "  xor_val = 0# empty list\n",
        "  for e in A:\n",
        "    # check if array element is square or not\n",
        "    if math.floor(math.sqrt(e)) == math.ceil(math.sqrt(e)): \n",
        "      #print(e)\n",
        "      xor_val = xor_val ^ e\n",
        "  print(xor_val)\n"
      ],
      "metadata": {
        "colab": {
          "base_uri": "https://localhost:8080/"
        },
        "id": "-6HKlCyPQKap",
        "outputId": "8e24a5c6-c125-4558-ff6c-45e37c67f11d"
      },
      "execution_count": null,
      "outputs": [
        {
          "output_type": "stream",
          "name": "stdout",
          "text": [
            "1\n",
            "6\n",
            "3 9 16 12 13 15\n",
            "25\n"
          ]
        }
      ]
    },
    {
      "cell_type": "code",
      "execution_count": null,
      "metadata": {
        "colab": {
          "base_uri": "https://localhost:8080/"
        },
        "id": "YptiFDj0JHmV",
        "outputId": "62eb3cf0-1b65-4ab4-ff04-589f97766bb3"
      },
      "outputs": [
        {
          "output_type": "stream",
          "name": "stdout",
          "text": [
            "1\n",
            "6\n",
            "3 9 16 12 13 15\n",
            "2\n",
            "25\n"
          ]
        }
      ],
      "source": [
        "## V1.1\n",
        "\"\"\"\n",
        "Time-complexity: O(2N)\n",
        "\"\"\"\n",
        "import math\n",
        "\n",
        "T = int(input()) # Number of inp\n",
        "\n",
        "for _ in range(T):\n",
        "  N = int(input()) # Number of array elements\n",
        "  A = list(map(int, input().split())) # Array input\n",
        "  B = [] # empty list\n",
        "  for e in A:\n",
        "    # check if array element is square or not\n",
        "    if math.floor(math.sqrt(e)) == math.ceil(math.sqrt(e)): \n",
        "      #print(e)\n",
        "      B.append(e)\n",
        "  temp = 0\n",
        "  #print(len(B))\n",
        "  # Check new array B's element and apply XOR bitwise operations on each subsequent pair\n",
        "  if len(B)>=2:\n",
        "    for i in range(len(B)-1):\n",
        "      temp = B[i]^B[i+1]\n",
        "    print(temp)\n",
        "  elif len(B)==1:\n",
        "    print(B[0])\n",
        "  else:\n",
        "    print(\"No square element in the array!\")\n",
        "\n",
        "  "
      ]
    },
    {
      "cell_type": "code",
      "source": [
        "6^16"
      ],
      "metadata": {
        "colab": {
          "base_uri": "https://localhost:8080/"
        },
        "id": "nm1kUfMmNC6E",
        "outputId": "d89c8e5e-b621-46ed-9af2-6d784279d7d9"
      },
      "execution_count": null,
      "outputs": [
        {
          "output_type": "execute_result",
          "data": {
            "text/plain": [
              "22"
            ]
          },
          "metadata": {},
          "execution_count": 3
        }
      ]
    },
    {
      "cell_type": "code",
      "source": [
        "9^16"
      ],
      "metadata": {
        "colab": {
          "base_uri": "https://localhost:8080/"
        },
        "id": "f_vHQlLINvZC",
        "outputId": "f14df6fc-a175-4759-da95-e6943381052f"
      },
      "execution_count": null,
      "outputs": [
        {
          "output_type": "execute_result",
          "data": {
            "text/plain": [
              "25"
            ]
          },
          "metadata": {},
          "execution_count": 4
        }
      ]
    },
    {
      "cell_type": "markdown",
      "source": [
        "## Q 2. Find bitwise XOR of all triplets formed from given three Arrays.\n",
        "\n",
        " https://www.geeksforgeeks.org/find-bitwise-xor-of-all-triplets-formed-from-given-three-arrays/"
      ],
      "metadata": {
        "id": "9LcuVTykZHHU"
      }
    },
    {
      "cell_type": "code",
      "source": [
        "## V1.2\n",
        "\"\"\"\n",
        "Time-complexity: O(N*M*P)\n",
        "where, N, M, and P are lengths of arr1, arr2, and arr3\n",
        "\"\"\"\n",
        "T = int(input())\n",
        "\n",
        "for _ in range(T):\n",
        "  Arr1 = list(map(int, input().split()))\n",
        "  Arr2 = list(map(int, input().split()))\n",
        "  Arr3 = list(map(int, input().split()))\n",
        "\n",
        "  N = len(Arr1)\n",
        "  M = len(Arr2)\n",
        "  P = len(Arr3)\n",
        "  #Arr_triplet = []\n",
        "  e_xor = 0\n",
        "  ee_xor = 0\n",
        "  for i in Arr1:\n",
        "    for j in Arr2:\n",
        "      for k in Arr3:\n",
        "        #Arr_triplet.append(list([i,j,k]))\n",
        "        e_xor = (i^j)^k  # XOR of each new combinaton of triplet\n",
        "        ee_xor = ee_xor^e_xor # Overall XOR among each pair of triplet list\n",
        "  print(ee_xor)\n",
        "\n",
        "  #print(Arr_triplet)"
      ],
      "metadata": {
        "id": "ChTI0ncINw7n",
        "colab": {
          "base_uri": "https://localhost:8080/"
        },
        "outputId": "166a49c6-d91a-459b-f5a6-d5ad9d743f12"
      },
      "execution_count": 17,
      "outputs": [
        {
          "output_type": "stream",
          "name": "stdout",
          "text": [
            "1\n",
            "3\n",
            "4 2 3\n",
            "1\n",
            "7\n"
          ]
        }
      ]
    },
    {
      "cell_type": "code",
      "source": [
        "print(len(Arr_triplet))\n",
        "#len(Arr_triplet[0])"
      ],
      "metadata": {
        "colab": {
          "base_uri": "https://localhost:8080/"
        },
        "id": "6bw7vYNUrmyw",
        "outputId": "499ff839-3f1d-4c6d-8b12-b13d494708bd"
      },
      "execution_count": 11,
      "outputs": [
        {
          "output_type": "stream",
          "name": "stdout",
          "text": [
            "12\n"
          ]
        }
      ]
    },
    {
      "cell_type": "code",
      "source": [
        "# Arr_triplet_final=[]\n",
        "# for e in Arr_triplet:\n",
        "#   if len(e)==3:\n",
        "#     Arr_triplet_final.append(e)\n",
        "# print(len(Arr_triplet_final))"
      ],
      "metadata": {
        "colab": {
          "base_uri": "https://localhost:8080/"
        },
        "id": "3ITAUPJmro95",
        "outputId": "a99347a2-5397-4a9f-8226-7d1045d34901"
      },
      "execution_count": 12,
      "outputs": [
        {
          "output_type": "stream",
          "name": "stdout",
          "text": [
            "12\n"
          ]
        }
      ]
    }
  ]
}