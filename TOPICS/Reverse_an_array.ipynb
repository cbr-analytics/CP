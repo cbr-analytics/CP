{
  "nbformat": 4,
  "nbformat_minor": 0,
  "metadata": {
    "colab": {
      "provenance": []
    },
    "kernelspec": {
      "name": "python3",
      "display_name": "Python 3"
    },
    "language_info": {
      "name": "python"
    }
  },
  "cells": [
    {
      "cell_type": "markdown",
      "source": [
        "## Reverse array\n",
        "Given an array or string reverse the array/string."
      ],
      "metadata": {
        "id": "sOTLuc0sD28n"
      }
    },
    {
      "cell_type": "code",
      "execution_count": 4,
      "metadata": {
        "id": "e2IWrV3BDbsM"
      },
      "outputs": [],
      "source": [
        "import numpy as np"
      ]
    },
    {
      "cell_type": "code",
      "source": [
        "arr = np.array([1, 2, 3])\n",
        "type(arr)"
      ],
      "metadata": {
        "colab": {
          "base_uri": "https://localhost:8080/"
        },
        "id": "YYQmfgpgDn8L",
        "outputId": "4dc37e7e-b3aa-4ffd-ccd7-d4b36b5d8d97"
      },
      "execution_count": 5,
      "outputs": [
        {
          "output_type": "execute_result",
          "data": {
            "text/plain": [
              "numpy.ndarray"
            ]
          },
          "metadata": {},
          "execution_count": 5
        }
      ]
    },
    {
      "cell_type": "code",
      "source": [
        "# reverse\n",
        "n = len(arr)-1\n",
        "i=0\n",
        "while n>i:\n",
        "  arr[i], arr[n] = arr[n], arr[i]\n",
        "  i = i+1\n",
        "  n = n-1\n",
        "\n",
        "print(arr)"
      ],
      "metadata": {
        "colab": {
          "base_uri": "https://localhost:8080/"
        },
        "id": "wxX-6hUsDstn",
        "outputId": "07cbf254-8780-4d97-889f-4a0fa2672502"
      },
      "execution_count": 11,
      "outputs": [
        {
          "output_type": "stream",
          "name": "stdout",
          "text": [
            "[3 2 1]\n"
          ]
        }
      ]
    },
    {
      "cell_type": "code",
      "source": [
        "# function to reverse an array\n",
        "\n",
        "def reverse_fun(arr_len, arr):\n",
        "  n = arr_len-1 # last index of array\n",
        "  i = 0 # frst index of array\n",
        "  while n>i:\n",
        "    arr[i], arr[n] = arr[n], arr[i]\n",
        "    n = n-1\n",
        "    i = i+1\n",
        "  return arr\n",
        "\n",
        "# main part \n",
        "print(\"Input array length:\")\n",
        "arr_len = int(input())\n",
        "\n",
        "print(f\"Input an array of lenght {arr_len}:\")\n",
        "arr = list(map(int, input().split()))\n",
        "arr = np.array(arr)\n",
        "print(reverse_fun(arr_len, arr))"
      ],
      "metadata": {
        "colab": {
          "base_uri": "https://localhost:8080/"
        },
        "id": "ho6r3yRYEYLO",
        "outputId": "7f52f6f4-879f-4b00-c873-8f4368c02dc5"
      },
      "execution_count": 16,
      "outputs": [
        {
          "output_type": "stream",
          "name": "stdout",
          "text": [
            "Input array length:\n",
            "1\n",
            "Input an array of lenght 1:\n",
            "1 2 3 4\n",
            "[1 2 3 4]\n"
          ]
        }
      ]
    },
    {
      "cell_type": "code",
      "source": [],
      "metadata": {
        "id": "gZnazXeNGuXT"
      },
      "execution_count": null,
      "outputs": []
    }
  ]
}