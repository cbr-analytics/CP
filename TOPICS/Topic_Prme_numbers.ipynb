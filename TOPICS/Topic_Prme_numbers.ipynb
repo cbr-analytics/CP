{
  "nbformat": 4,
  "nbformat_minor": 0,
  "metadata": {
    "colab": {
      "provenance": []
    },
    "kernelspec": {
      "name": "python3",
      "display_name": "Python 3"
    },
    "language_info": {
      "name": "python"
    }
  },
  "cells": [
    {
      "cell_type": "markdown",
      "source": [
        "## Print top 100 prime numbers"
      ],
      "metadata": {
        "id": "MkKPoFYYzYUM"
      }
    },
    {
      "cell_type": "code",
      "execution_count": 9,
      "metadata": {
        "colab": {
          "base_uri": "https://localhost:8080/"
        },
        "id": "2aG1OdWQzT1Z",
        "outputId": "dec84295-0c6b-4e01-cb32-f58cabc7b6c9"
      },
      "outputs": [
        {
          "output_type": "stream",
          "name": "stdout",
          "text": [
            "2\n",
            "3\n",
            "5\n",
            "7\n"
          ]
        }
      ],
      "source": [
        "# n= 10\n",
        "# flag=1\n",
        "# for i in range(2,n):\n",
        "#   flag=1\n",
        "#   mid_num = int(i/2)\n",
        "#   for j in range(2,mid_num+1):\n",
        "#     if i%j ==0:\n",
        "#       flag = 0\n",
        "    \n",
        "#   if flag == 1:\n",
        "#     print(i)"
      ]
    },
    {
      "cell_type": "code",
      "source": [
        "\"\"\"\n",
        "Time Complexity= O(100*mid_num!)\n",
        "Print top 100 prime numbers\n",
        "\"\"\"\n",
        "n= 1\n",
        "flag=1\n",
        "count = 0\n",
        "i = 2\n",
        "while count <10:\n",
        "  flag=1\n",
        "  mid_num = int(i/2)\n",
        "  for j in range(2,mid_num+1):\n",
        "    if i%j ==0:\n",
        "      flag = 0\n",
        "    \n",
        "  if flag == 1:\n",
        "    print(i)\n",
        "    count = count+1\n",
        "  i = i+1"
      ],
      "metadata": {
        "colab": {
          "base_uri": "https://localhost:8080/"
        },
        "id": "7CHyFIBp1p1B",
        "outputId": "74d8a2f8-4776-4198-d901-003fb2fb5588"
      },
      "execution_count": 23,
      "outputs": [
        {
          "output_type": "stream",
          "name": "stdout",
          "text": [
            "2\n",
            "3\n",
            "5\n",
            "7\n",
            "11\n",
            "13\n",
            "17\n",
            "19\n",
            "23\n",
            "29\n"
          ]
        }
      ]
    },
    {
      "cell_type": "code",
      "source": [],
      "metadata": {
        "id": "dcHQwWuLE6Cy"
      },
      "execution_count": null,
      "outputs": []
    }
  ]
}