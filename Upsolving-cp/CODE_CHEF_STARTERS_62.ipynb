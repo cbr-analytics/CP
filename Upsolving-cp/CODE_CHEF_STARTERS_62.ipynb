{
  "nbformat": 4,
  "nbformat_minor": 0,
  "metadata": {
    "colab": {
      "provenance": [],
      "toc_visible": true
    },
    "kernelspec": {
      "name": "python3",
      "display_name": "Python 3"
    },
    "language_info": {
      "name": "python"
    }
  },
  "cells": [
    {
      "cell_type": "markdown",
      "source": [
        "## Contenst 62\n",
        "\n",
        "- https://www.codechef.com/START62D?order=desc&sortBy=successful_submissions\n",
        "\n",
        "\n",
        "\n",
        "Editorial here:\n",
        "https://discuss.codechef.com/search?q=tags%3Astart62%20%23editorial"
      ],
      "metadata": {
        "id": "we0Susrc1Avl"
      }
    },
    {
      "cell_type": "markdown",
      "source": [
        "## UP-SOLVE:\n",
        "1/4 \n"
      ],
      "metadata": {
        "id": "i2SCv--w1QHh"
      }
    },
    {
      "cell_type": "markdown",
      "source": [
        "## Make Multiple (MAKEMULTIPLE)\n"
      ],
      "metadata": {
        "id": "wc5pORO5iuMF"
      }
    },
    {
      "cell_type": "code",
      "source": [],
      "metadata": {
        "id": "Q0EXubtJjKvc"
      },
      "execution_count": null,
      "outputs": []
    },
    {
      "cell_type": "markdown",
      "source": [
        "### Problem\n",
        "\n",
        "- https://www.codechef.com/problems/MAKEMULTIPLE?tab=statement\n",
        "\n",
        "Chef has two integers AA and BB (A \\leq B)(A≤B).\n",
        "\n",
        "Chef can choose any non-negative integer XX and add them to both AA and BB. Find whether it is possible to make AA a divisor of BB.\n",
        "\n",
        "Input Format\n",
        "The first line of input will contain a single integer TT, denoting the number of test cases.\n",
        "Each test case consists of two integers AA and BB.\n",
        "Output Format\n",
        "For each test case, output YES if it is possible to make AA a factor of BB, NO otherwise.\n",
        "\n",
        "You can print each character of the string in uppercase or lowercase. For example, the strings Yes, YES, yes, and yEs, are all considered identical."
      ],
      "metadata": {
        "id": "iq_B2O2Ji1u8"
      }
    },
    {
      "cell_type": "code",
      "source": [
        "# cook your dish here\n",
        "T = int(input())\n",
        "\n",
        "for _ in range(T):\n",
        "    A, B = map(int, input().split())\n",
        "    \n",
        "    d = B-A\n",
        "    # A valid K exist for A and B only when (B-A) <=A \n",
        "    if A==B:\n",
        "        print(\"YES\")\n",
        "    elif A <= d:\n",
        "        print(\"YES\")\n",
        "    else:\n",
        "        print(\"NO\")"
      ],
      "metadata": {
        "colab": {
          "base_uri": "https://localhost:8080/"
        },
        "id": "tETrMH5gi1Dv",
        "outputId": "1390f947-ae0b-4bc7-e1a9-5e497856edb4"
      },
      "execution_count": 1,
      "outputs": [
        {
          "output_type": "stream",
          "name": "stdout",
          "text": [
            "1\n",
            "3 6\n",
            "YES\n"
          ]
        }
      ]
    },
    {
      "cell_type": "code",
      "source": [],
      "metadata": {
        "id": "y1U2QSKMjEdG"
      },
      "execution_count": null,
      "outputs": []
    }
  ]
}