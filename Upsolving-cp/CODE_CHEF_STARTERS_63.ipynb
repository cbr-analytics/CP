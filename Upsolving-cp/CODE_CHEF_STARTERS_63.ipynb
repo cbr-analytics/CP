{
  "nbformat": 4,
  "nbformat_minor": 0,
  "metadata": {
    "colab": {
      "provenance": [],
      "collapsed_sections": []
    },
    "kernelspec": {
      "name": "python3",
      "display_name": "Python 3"
    },
    "language_info": {
      "name": "python"
    }
  },
  "cells": [
    {
      "cell_type": "markdown",
      "source": [
        "\n",
        "## DELXORONE \n",
        "\n",
        "- Problem Statement: https://www.codechef.com/problems/DELXORONE\n",
        "- Editorial: https://discuss.codechef.com/t/delxorone-editorial/103796\n",
        "\n",
        "❗ NOTE: Solution  not working for all test case gives runtime error!\n",
        "\n",
        "\n",
        "\n",
        "\n"
      ],
      "metadata": {
        "id": "0GFxZ1FmmA7R"
      }
    },
    {
      "cell_type": "code",
      "execution_count": 10,
      "metadata": {
        "colab": {
          "base_uri": "https://localhost:8080/"
        },
        "id": "ODGwgc75jvGR",
        "outputId": "e2b42cb6-cb8a-477c-b97a-bce824c53cf2"
      },
      "outputs": [
        {
          "output_type": "stream",
          "name": "stdout",
          "text": [
            "1\n",
            "5\n",
            "3 4 3 4 4\n",
            "Counter({4: 3, 3: 2})\n",
            "2\n"
          ]
        }
      ],
      "source": [
        "\"\"\"\n",
        "Time Complexity: O(N)\n",
        "\"\"\"\n",
        "import collections\n",
        "\n",
        "T = int(input())\n",
        "for _ in range(T):\n",
        "  N = int(input())\n",
        "  A = list(map(int, input().split()))\n",
        "  # For conditon to satisfy, x+y<=1, x=y or y = x+1 i.e. both current and next elements\n",
        "  # are same or next element is current +1 e.g [5,5] 0r [5,6]\n",
        "  freq_array = collections.Counter(A)\n",
        "  print(freq_array)\n",
        "  min_del = []\n",
        "  if len(set(A))==1:\n",
        "    print(0)\n",
        "  else:\n",
        "    for i in range(N):\n",
        "      c = N - freq_array[A[i]] - freq_array[A[i]+1]\n",
        "      if c!=0:\n",
        "        min_del.append(c)\n",
        "    print(min(min_del))\n"
      ]
    }
  ]
}