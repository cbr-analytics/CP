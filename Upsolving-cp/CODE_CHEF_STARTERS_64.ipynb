{
  "nbformat": 4,
  "nbformat_minor": 0,
  "metadata": {
    "colab": {
      "provenance": [],
      "toc_visible": true
    },
    "kernelspec": {
      "name": "python3",
      "display_name": "Python 3"
    },
    "language_info": {
      "name": "python"
    }
  },
  "cells": [
    {
      "cell_type": "markdown",
      "source": [
        "## \n",
        "\n",
        "https://www.codechef.com/START64D?order=desc&sortBy=successful_submissions\n",
        "\n",
        "Editorial here:\n",
        "https://discuss.codechef.com/search?q=tags%3Astart64%20%23editorial"
      ],
      "metadata": {
        "id": "we0Susrc1Avl"
      }
    },
    {
      "cell_type": "markdown",
      "source": [
        "## UP-SOLVE:\n",
        "1/4 \n"
      ],
      "metadata": {
        "id": "i2SCv--w1QHh"
      }
    },
    {
      "cell_type": "markdown",
      "source": [
        "### RANGEASSIGN "
      ],
      "metadata": {
        "id": "rEl_oAc-2QjD"
      }
    },
    {
      "cell_type": "code",
      "source": [
        "for _ in range(int(input())):\n",
        "    n = int(input())\n",
        "    a = list(map(int, input().split()))\n",
        "    if a[0] == a[-1]:\n",
        "        print('Yes')\n",
        "    else:\n",
        "        ans = 'No'\n",
        "        for i in range(n-1):\n",
        "            if a[i] == a[0] and a[i+1] == a[-1]:\n",
        "                ans = 'Yes'\n",
        "        print(ans)"
      ],
      "metadata": {
        "colab": {
          "base_uri": "https://localhost:8080/"
        },
        "id": "ySKTEWNOyWO8",
        "outputId": "88ae22d6-1f31-4c36-c9e4-b18220889745"
      },
      "execution_count": 1,
      "outputs": [
        {
          "output_type": "stream",
          "name": "stdout",
          "text": [
            "1\n",
            "2\n",
            "3\n",
            "4\n"
          ]
        }
      ]
    },
    {
      "cell_type": "markdown",
      "source": [
        "## Rough code work"
      ],
      "metadata": {
        "id": "iXkNH0tk2Apb"
      }
    },
    {
      "cell_type": "code",
      "execution_count": null,
      "metadata": {
        "colab": {
          "base_uri": "https://localhost:8080/"
        },
        "id": "cX87Se9apmzI",
        "outputId": "0162e65c-0087-4b0e-ced8-dfa64a24b5e1"
      },
      "outputs": [
        {
          "output_type": "stream",
          "name": "stdout",
          "text": [
            "Hi\n"
          ]
        }
      ],
      "source": [
        "print(\"Hi\")"
      ]
    },
    {
      "cell_type": "code",
      "source": [
        "T = int(input())\n",
        "\n",
        "for _ in range(T):\n",
        "    N = int(input())\n",
        "    S = input()\n",
        "    A = []\n",
        "    B = []\n",
        "    for i in range(int(N/2)):\n",
        "      if S[i] == S[int((N/2))+i]:\n",
        "        flag= 1\n",
        "      else:\n",
        "        flag=0\n",
        "        print(\"NO\")\n",
        "        break\n",
        "    if flag==1:\n",
        "      print(\"YES\")\n",
        "    \n",
        "\n",
        "      print(i)\n",
        "      print(int((N/2))+i)"
      ],
      "metadata": {
        "colab": {
          "base_uri": "https://localhost:8080/"
        },
        "id": "DxYKXgIwqg6c",
        "outputId": "e4db7375-6d3a-401d-f735-96645ec620bb"
      },
      "execution_count": null,
      "outputs": [
        {
          "output_type": "stream",
          "name": "stdout",
          "text": [
            "1\n",
            "6\n",
            "abcabc\n",
            "0\n",
            "3\n",
            "1\n",
            "4\n",
            "2\n",
            "5\n"
          ]
        }
      ]
    },
    {
      "cell_type": "code",
      "source": [
        "# cook your dish here\n",
        "T = int(input())\n",
        "\n",
        "for _ in range(T):\n",
        "    N = int(input())\n",
        "    A = list(map(int, input().split()))\n",
        "    A.sort()\n",
        "    if len(set(A))==1:\n",
        "        print(0)\n",
        "    print(A)"
      ],
      "metadata": {
        "colab": {
          "base_uri": "https://localhost:8080/"
        },
        "id": "tDEhnkpp8EL4",
        "outputId": "36dd9aa7-0fdf-417c-bb53-d8c91c506327"
      },
      "execution_count": null,
      "outputs": [
        {
          "output_type": "stream",
          "name": "stdout",
          "text": [
            "1\n",
            "5\n",
            "1 55 3 45 99\n",
            "[1, 3, 45, 55, 99]\n"
          ]
        }
      ]
    },
    {
      "cell_type": "code",
      "source": [
        "# Python implementation of Naive method\n",
        "# to print all divisors\n",
        "\n",
        "# method to print the divisors\n",
        "def printDivisors(n):\n",
        "  D= []\n",
        "  i = 1\n",
        "  while i <= n :\n",
        "    if (n % i==0) :\n",
        "\t\t\t#print (i,end=\" \")\n",
        "      D.append(i)\n",
        "    i = i + 1\n",
        "  return D\n",
        "\n",
        "print(printDivisors(50))\n",
        "\t\t"
      ],
      "metadata": {
        "colab": {
          "base_uri": "https://localhost:8080/"
        },
        "id": "N5e3aAvlGWLW",
        "outputId": "3b1409f9-89a1-4a68-acb2-2312d8b04f72"
      },
      "execution_count": null,
      "outputs": [
        {
          "output_type": "stream",
          "name": "stdout",
          "text": [
            "[1, 2, 5, 10, 25, 50]\n"
          ]
        }
      ]
    },
    {
      "cell_type": "code",
      "source": [
        "T = int(input())\n",
        "\n",
        "for _ in range(T):\n",
        "    N = int(input())\n",
        "    A = list(map(int, input().split()))\n",
        "    A.sort()\n",
        "    c = 0\n",
        "    \n",
        "    # while set(A)!=1:\n",
        "    if len(set(A)) == len(A):\n",
        "      # print(len(A))\n",
        "      c = len(A)\n",
        "    else:\n",
        "      for i in range(N-1):\n",
        "        if A[i+1] == A[i]:\n",
        "          continue\n",
        "        else:\n",
        "          D = printDivisors(A[i+1])\n",
        "          for d in D:\n",
        "            if A[i+1]//d ==A[i]:\n",
        "              A[i+1] = A[i+1]/d\n",
        "              c = c + 1 \n",
        "    print(c)\n",
        "\n"
      ],
      "metadata": {
        "colab": {
          "base_uri": "https://localhost:8080/"
        },
        "id": "7cTcnoyOIiwH",
        "outputId": "151c749d-1ec7-491a-b85d-f1e79acec7f5"
      },
      "execution_count": null,
      "outputs": [
        {
          "output_type": "stream",
          "name": "stdout",
          "text": [
            "1\n",
            "2\n",
            "11 22\n",
            "2\n"
          ]
        }
      ]
    },
    {
      "cell_type": "code",
      "source": [
        "T = int(input())\n",
        "\n",
        "for _ in range(T):\n",
        "    N = int(input())\n",
        "    A = list(map(int, input().split()))\n",
        "    A.sort()\n",
        "    c1 = 0\n",
        "    c2 = 0\n",
        "    c = 0\n",
        "    flag = 0\n",
        "    # while set(A)!=1:\n",
        "    # if len(set(A)) == 1:\n",
        "    #   # print(len(A))\n",
        "    #   c = 0\n",
        "    #   flag = 1\n",
        "\n",
        "    for i in range(N-1):\n",
        "       if A[i+1] == A[i]:\n",
        "         flag=1\n",
        "         continue\n",
        "       else:\n",
        "         D = printDivisors(A[i+1])\n",
        "         for d in D:\n",
        "           if A[i+1]//d ==A[i]:\n",
        "             flag=1\n",
        "             A[i+1] = A[i+1]/d\n",
        "             c = c + 1 \n",
        "\n",
        "    # print(c)\n",
        "    if  flag==1:\n",
        "      print(c)\n",
        "    else:\n",
        "      print(len(A))\n"
      ],
      "metadata": {
        "colab": {
          "base_uri": "https://localhost:8080/"
        },
        "id": "000JHdEcMOza",
        "outputId": "3635cbda-4c90-4fd7-d0ed-9e93ae5ca0aa"
      },
      "execution_count": null,
      "outputs": [
        {
          "output_type": "stream",
          "name": "stdout",
          "text": [
            "1\n",
            "4\n",
            "11 13 17 19\n",
            "4\n"
          ]
        }
      ]
    }
  ]
}