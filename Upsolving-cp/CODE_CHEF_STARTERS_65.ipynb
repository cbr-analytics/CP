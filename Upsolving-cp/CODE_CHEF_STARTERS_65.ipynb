{
  "nbformat": 4,
  "nbformat_minor": 0,
  "metadata": {
    "colab": {
      "provenance": []
    },
    "kernelspec": {
      "name": "python3",
      "display_name": "Python 3"
    },
    "language_info": {
      "name": "python"
    }
  },
  "cells": [
    {
      "cell_type": "markdown",
      "source": [
        "## BIN_OD\n",
        "- https://www.codechef.com/problems/BIN_OD\n",
        "- EDITORIAL: https://discuss.codechef.com/search?q=tags%3Astart65%20%23editorial\n",
        "\n",
        "You are given an array AA and AA queries on it. For each query, you are given two subarrays and an integer kk.\n",
        "Find the number of pairs of elements, one from the first subarray and one from the second, such that their bitwise xor has the kk-th bit set.\n",
        "\n",
        "Topic: kth bit is set or not-set\n",
        "https://www.geeksforgeeks.org/check-whether-k-th-bit-set-not/#:~:text=Check%20whether%20the%20K%2Dth,bit%20as%20k%2Dth%20bit."
      ],
      "metadata": {
        "id": "I4NjDgX5P-sW"
      }
    },
    {
      "cell_type": "code",
      "source": [
        "\n",
        "\"\"\"\n",
        "Time complexity = O()\n",
        "Lets us check based on following conditon.\n",
        "1. A pair A[i] xor A[j] will have kth bit set for following 2 conditions:\n",
        " - A[i] has kth bit set and A[j] doesn't have kth bit set;\n",
        " - A[j] has kth bit set and A[i] doesn't have kth bit set.\n",
        "\"\"\"\n",
        "def kth_bit(num, k):\n",
        "  if num & (1 <<k-1):\n",
        "    return True\n",
        "  else:\n",
        "    return False\n",
        "\n",
        "T = int(input())\n",
        "\n",
        "for _ in range(T):\n",
        "  N, Q = map(int, input().split())\n",
        "  A = list(map(int, input().split()))\n",
        "  \n",
        "  for q in range(Q):\n",
        "    k, L1, R1, L2, R2 = map(int, input().split())\n",
        "    c = 0\n",
        "    ce = 0\n",
        "    for i in range(L1-1, R1):\n",
        "      # ce = 0\n",
        "      for j in range(L2-1, R2):\n",
        "        \n",
        "        if kth_bit(A[i],k) == True and kth_bit(A[j],k)==False:\n",
        "          c = c+1 #A[i] has kth bit set and A[j] doesn't have kth bit set;\n",
        "        elif kth_bit(A[i],k) == False and kth_bit(A[j],k)==True:\n",
        "          c = c+1 #A[j] has kth bit set and A[i] doesn't have kth bit set.\n",
        "        else:\n",
        "          c = c+0\n",
        "        \n",
        "    print(c)\n"
      ],
      "metadata": {
        "colab": {
          "base_uri": "https://localhost:8080/"
        },
        "id": "kltKaxuxe_F-",
        "outputId": "cfb2497e-67f1-497c-a490-426099abdbb5"
      },
      "execution_count": 22,
      "outputs": [
        {
          "output_type": "stream",
          "name": "stdout",
          "text": [
            "1\n",
            "5 1\n",
            "1 2 4 3 2\n",
            "2 1 2 3 5\n",
            "3\n"
          ]
        }
      ]
    },
    {
      "cell_type": "code",
      "source": [
        "\n",
        "\"\"\"\n",
        "Time complexity = O()\n",
        "\"\"\"\n",
        "def kth_bit(num, k):\n",
        "  if num & (1 <<k-1):\n",
        "    return 1\n",
        "  else:\n",
        "    return 0\n",
        "\n",
        "T = int(input())\n",
        "\n",
        "for _ in range(T):\n",
        "  N, Q = map(int, input().split())\n",
        "  A = list(map(int, input().split()))\n",
        "  \n",
        "  for q in range(Q):\n",
        "    k, L1, R1, L2, R2 = map(int, input().split())\n",
        "    c =0\n",
        "    for i in range(L1-1, R1):\n",
        "      # c = 0\n",
        "      ce = 0\n",
        "      for j in range(L2-1, R2):\n",
        "        # print(kth_bit(A[i]^A[j], k)) \n",
        "        ce = kth_bit(A[i]^A[j], k)\n",
        "        c = c + ce\n",
        "    print(c)\n"
      ],
      "metadata": {
        "id": "Q34LQzYbQiVY",
        "colab": {
          "base_uri": "https://localhost:8080/"
        },
        "outputId": "e88f02a9-cf87-4a74-e2d2-3cdb7fad0c57"
      },
      "execution_count": 20,
      "outputs": [
        {
          "output_type": "stream",
          "name": "stdout",
          "text": [
            "1\n",
            "5 1\n",
            "1 2 4 3 2\n",
            "1 1 3 5 5\n",
            "1\n"
          ]
        }
      ]
    },
    {
      "cell_type": "code",
      "source": [
        "print([i for i in range(3,5)])"
      ],
      "metadata": {
        "colab": {
          "base_uri": "https://localhost:8080/"
        },
        "id": "skR67VA0dPru",
        "outputId": "d0c2af75-ad48-4ae4-9bfa-09b2eb04369b"
      },
      "execution_count": 18,
      "outputs": [
        {
          "output_type": "stream",
          "name": "stdout",
          "text": [
            "[3, 4]\n"
          ]
        }
      ]
    },
    {
      "cell_type": "code",
      "source": [
        "T = int(input())\n",
        "\n",
        "for _ in range(T):\n",
        "  N, Q = map(int, input().split())\n",
        "  A = list(map(int, input().split()))\n",
        "  \n",
        "  for q in range(Q):\n",
        "    k, L1, R1, L2, R2 = map(int, input().split())\n",
        "    # c =0\n",
        "    print(L1,R1, L2, R2)\n",
        "    for i in range(L1-1, R1):\n",
        "      c = 0\n",
        "      ce = 0\n",
        "      for j in range(L2-1, R2):\n",
        "        print(i,j)"
      ],
      "metadata": {
        "colab": {
          "base_uri": "https://localhost:8080/"
        },
        "id": "q-OT4YJPrtPE",
        "outputId": "f8677af0-4e33-41db-d318-d1953a1f3e79"
      },
      "execution_count": null,
      "outputs": [
        {
          "output_type": "stream",
          "name": "stdout",
          "text": [
            "1\n",
            "6 1\n",
            "3 5 6 13 12 20\n",
            "1 1 4 5 6\n",
            "1 4 5 6\n",
            "0 4\n",
            "0 5\n",
            "1 4\n",
            "1 5\n",
            "2 4\n",
            "2 5\n",
            "3 4\n",
            "3 5\n"
          ]
        }
      ]
    },
    {
      "cell_type": "code",
      "source": [
        "def kth_bit(num, k):\n",
        "  if num & (1 <<k-1):\n",
        "    return 1\n",
        "  else:\n",
        "    return 0\n",
        "\n",
        "T = int(input())\n",
        "\n",
        "for _ in range(T):\n",
        "  N, Q = map(int, input().split())\n",
        "  A = list(map(int, input().split()))\n",
        "  \n",
        "  for q in range(Q):\n",
        "    k, L1, R1, L2, R2 = map(int, input().split())\n",
        "    # c =0\n",
        "    for i in range(L1-1, R1):\n",
        "      c = 0\n",
        "      ce = 0\n",
        "      for j in range(L2-1, R2):\n",
        "        # print(kth_bit(A[i]^A[j], k)) \n",
        "        ce = kth_bit(A[i]^A[j], k)\n",
        "        c = c + ce\n",
        "        print(ce,c)\n",
        "      print(c)"
      ],
      "metadata": {
        "colab": {
          "base_uri": "https://localhost:8080/"
        },
        "id": "0l7szndIsZU-",
        "outputId": "aa300588-98c6-4705-d7b6-c1918399ee4b"
      },
      "execution_count": null,
      "outputs": [
        {
          "output_type": "stream",
          "name": "stdout",
          "text": [
            "1\n",
            "6 1\n",
            "3 5 6 13 12 20\n",
            "1 1 4 5 6\n",
            "1 1\n",
            "1 2\n",
            "2\n",
            "1 1\n",
            "1 2\n",
            "2\n",
            "0 0\n",
            "0 0\n",
            "0\n",
            "1 1\n",
            "1 2\n",
            "2\n"
          ]
        }
      ]
    },
    {
      "cell_type": "markdown",
      "source": [
        "## Hackerman(PRIMEDICE)\n",
        "\n",
        "- https://www.codechef.com/problems/PRIMEDICE"
      ],
      "metadata": {
        "id": "2rT-R0qJ3C4V"
      }
    },
    {
      "cell_type": "code",
      "execution_count": null,
      "metadata": {
        "id": "-_WPE2YX2gqP",
        "colab": {
          "base_uri": "https://localhost:8080/"
        },
        "outputId": "324bb9d4-98cd-4f6e-8fe3-d84e05b09760"
      },
      "outputs": [
        {
          "output_type": "stream",
          "name": "stdout",
          "text": [
            "False\n"
          ]
        }
      ],
      "source": [
        "\n",
        "from math import sqrt\n",
        "# n is the number to be check whether it is prime or not\n",
        "n = 1\n",
        "\n",
        "# this flag maintains status whether the n is prime or not\n",
        "prime_flag = 0\n",
        " \n",
        "if(n > 1):\n",
        "    for i in range(2, int(sqrt(n)) + 1):\n",
        "        if (n % i == 0):\n",
        "            prime_flag = 1\n",
        "            break\n",
        "    if (prime_flag == 0):\n",
        "        print(\"True\")\n",
        "    else:\n",
        "        print(\"False\")\n",
        "else:\n",
        "    print(\"False\")"
      ]
    },
    {
      "cell_type": "code",
      "source": [
        "from math import sqrt\n",
        "def prime_check(n):\n",
        "  # this flag maintains status whether the n is prime or not\n",
        "  prime_flag = 0\n",
        " \n",
        "  if(n > 1):\n",
        "      for i in range(2, int(sqrt(n)) + 1):\n",
        "          if (n % i == 0):\n",
        "              prime_flag = 1\n",
        "              break\n",
        "      if (prime_flag == 0):\n",
        "          print(\"Alice\")\n",
        "      else:\n",
        "          print(\"Bob\")\n",
        "  else:\n",
        "      print(\"Bob\")\n",
        "\n"
      ],
      "metadata": {
        "id": "3R_m6y2D5a_i"
      },
      "execution_count": null,
      "outputs": []
    },
    {
      "cell_type": "code",
      "source": [
        "prime_check(4)"
      ],
      "metadata": {
        "colab": {
          "base_uri": "https://localhost:8080/"
        },
        "id": "refW4W-b5s9M",
        "outputId": "f0258050-d32e-4c10-e67c-540839eff9dc"
      },
      "execution_count": null,
      "outputs": [
        {
          "output_type": "stream",
          "name": "stdout",
          "text": [
            "Bob\n"
          ]
        }
      ]
    },
    {
      "cell_type": "code",
      "source": [
        "\"\"\"\n",
        "TIME COMPLEXITY: O(N)\n",
        "\"\"\"\n",
        "\n",
        "# cook your dish here\n",
        "T = int(input())\n",
        "\n",
        "\n",
        "\n",
        "for _ in range(T):\n",
        "    A, B = map(int, input().split())\n",
        "\n",
        "    prime_check(A+B)\n",
        "\n"
      ],
      "metadata": {
        "colab": {
          "base_uri": "https://localhost:8080/"
        },
        "id": "tRTs0fuw5L1X",
        "outputId": "b7aaba19-365d-4aff-9653-3d823f63389e"
      },
      "execution_count": null,
      "outputs": [
        {
          "output_type": "stream",
          "name": "stdout",
          "text": [
            "1\n",
            "5 17\n",
            "Bob\n"
          ]
        }
      ]
    },
    {
      "cell_type": "markdown",
      "source": [
        "## Candies(CNDY)\n",
        "\n",
        "- https://www.codechef.com/problems/CNDY"
      ],
      "metadata": {
        "id": "PUYWN0RO3nXB"
      }
    },
    {
      "cell_type": "code",
      "source": [
        "\"\"\"\n",
        "TIME COMPLEXITY: O(2N)\n",
        "\"\"\"\n",
        "\n",
        "T = int(input())\n",
        "\n",
        "for _ in range(T):\n",
        "    N = int(input())\n",
        "    \n",
        "    A = list(map(int, input().split()))\n",
        "    flag = 0\n",
        "    freq = {}\n",
        "    for item in A:\n",
        "        if (item in freq):\n",
        "            freq[item] += 1\n",
        "        else:\n",
        "            freq[item] = 1\n",
        " \n",
        "    for key, value in freq.items():\n",
        "        if value >2:\n",
        "          flag = 1\n",
        "          break\n",
        "    if flag==1:\n",
        "      print(\"NO\")\n",
        "    else:\n",
        "      print(\"YES\")     \n",
        "    \n"
      ],
      "metadata": {
        "colab": {
          "base_uri": "https://localhost:8080/"
        },
        "id": "r_FfYqaz_BWF",
        "outputId": "f4467d21-8ad6-47f5-b75b-cb9100438af4"
      },
      "execution_count": null,
      "outputs": [
        {
          "output_type": "stream",
          "name": "stdout",
          "text": [
            "1\n",
            "4\n",
            "8 7 9 8 4 6 2 8\n",
            "NO\n"
          ]
        }
      ]
    },
    {
      "cell_type": "markdown",
      "source": [
        "## Nahanne Jaa(EQSARRAY)\n",
        "\n",
        "NOTE: NOT WORKING YET ⏰  ❌\n",
        "\n",
        "  - https://www.codechef.com/problems/EQSARRAY"
      ],
      "metadata": {
        "id": "Hcw09WeW4LU0"
      }
    },
    {
      "cell_type": "code",
      "source": [
        "import math\n",
        "N = 6\n",
        "A = list(map(int, input().split()))\n",
        "L = 1\n",
        "R = 6\n",
        "x = (L+R)/2\n",
        "math.floor(x)"
      ],
      "metadata": {
        "colab": {
          "base_uri": "https://localhost:8080/"
        },
        "id": "2zobK4MsEHga",
        "outputId": "a614ccd5-3326-48ab-ade6-b4d19cb42052"
      },
      "execution_count": null,
      "outputs": [
        {
          "name": "stdout",
          "output_type": "stream",
          "text": [
            "1 2 3 4 5 6\n"
          ]
        },
        {
          "output_type": "execute_result",
          "data": {
            "text/plain": [
              "3"
            ]
          },
          "metadata": {},
          "execution_count": 18
        }
      ]
    },
    {
      "cell_type": "code",
      "source": [
        "T = int(input())\n",
        "\n",
        "for _ in range(T):\n",
        "  N, K = map(int, input().split(\" \"))\n",
        "  A = list(map(int, input().split()))\n",
        "  L = 1\n",
        "  R = N\n",
        "  x = (L+R)/2\n",
        "  ei = math.floor(x)\n",
        "  print(ei)\n",
        "  if K==A[0]:\n",
        "    for i in range(N):\n",
        "      A[i] = A[ei-2] \n",
        "  else:\n",
        "    for i in range(N):\n",
        "      A[i] = A[ei-1] \n",
        "\n",
        "  if len(set(A))==1 and A[0]==K:\n",
        "    print(\"YES\")\n",
        "  else:\n",
        "    print(\"NO\")\n",
        "\n"
      ],
      "metadata": {
        "colab": {
          "base_uri": "https://localhost:8080/"
        },
        "id": "8Eqa_QqUEwSu",
        "outputId": "a6d83e84-b325-497d-8e79-340bd771c23b"
      },
      "execution_count": null,
      "outputs": [
        {
          "output_type": "stream",
          "name": "stdout",
          "text": [
            "1\n",
            "5 5\n",
            "7 -5 5 -2 5\n",
            "3\n",
            "YES\n"
          ]
        }
      ]
    },
    {
      "cell_type": "code",
      "source": [
        "T = int(input())\n",
        "\n",
        "for _ in range(T):\n",
        "  N, K = map(int, input().split(\" \"))\n",
        "  A = list(map(int, input().split()))\n",
        "\n",
        "  for r in range(N,0,-1):\n",
        "    for l in range(1, N+1):\n",
        "      AA = A[l-1:r+1]\n",
        "      x= (l+r)/2\n",
        "      ei = math.floor(x)\n",
        "      if K==AA[0]:\n",
        "        for i in range(len(AA)):\n",
        "          AA[i]==A[ei-2]\n",
        "      else:\n",
        "        for i in range(len(AA)):\n",
        "          AA[i] = A[ei-1]\n",
        "      for j in range(l-1, r+2):\n",
        "        A[j] = AA\n",
        "  if len(set(A))==1 and A[0]==K:\n",
        "    print(\"YES\")\n",
        "  else:\n",
        "    print(\"NO\")\n",
        "\n",
        "\n"
      ],
      "metadata": {
        "id": "1FOGlh5AI309"
      },
      "execution_count": null,
      "outputs": []
    },
    {
      "cell_type": "code",
      "source": [
        "A = [11, 22, 33, 44]\n",
        "B = A[1:2+1]\n",
        "print(B)"
      ],
      "metadata": {
        "colab": {
          "base_uri": "https://localhost:8080/"
        },
        "id": "tVHa-GKALS5z",
        "outputId": "54163837-f217-4eae-9459-0337ed5b4d9e"
      },
      "execution_count": null,
      "outputs": [
        {
          "output_type": "stream",
          "name": "stdout",
          "text": [
            "[22, 33]\n"
          ]
        }
      ]
    },
    {
      "cell_type": "code",
      "source": [
        "N = 5\n",
        "for r in range(N,0,-1):\n",
        "  print(r)"
      ],
      "metadata": {
        "colab": {
          "base_uri": "https://localhost:8080/"
        },
        "id": "VunrnjY6KlEA",
        "outputId": "589ab2d8-9ffc-4260-e981-81edfb8b96a0"
      },
      "execution_count": null,
      "outputs": [
        {
          "output_type": "stream",
          "name": "stdout",
          "text": [
            "5\n",
            "4\n",
            "3\n",
            "2\n",
            "1\n"
          ]
        }
      ]
    },
    {
      "cell_type": "code",
      "source": [
        "N = 5\n",
        "for l in range(1,N+1):\n",
        "  print(l)"
      ],
      "metadata": {
        "colab": {
          "base_uri": "https://localhost:8080/"
        },
        "id": "9TOeihgfKr_d",
        "outputId": "0ab4abd8-0516-4efd-86f2-6791dcfbfef2"
      },
      "execution_count": null,
      "outputs": [
        {
          "output_type": "stream",
          "name": "stdout",
          "text": [
            "1\n",
            "2\n",
            "3\n",
            "4\n",
            "5\n"
          ]
        }
      ]
    },
    {
      "cell_type": "code",
      "source": [],
      "metadata": {
        "id": "EMnzHGj4K6lf"
      },
      "execution_count": null,
      "outputs": []
    }
  ]
}