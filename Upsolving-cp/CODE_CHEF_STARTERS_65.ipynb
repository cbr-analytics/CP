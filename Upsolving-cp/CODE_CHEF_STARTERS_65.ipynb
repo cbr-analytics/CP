{
  "nbformat": 4,
  "nbformat_minor": 0,
  "metadata": {
    "colab": {
      "provenance": []
    },
    "kernelspec": {
      "name": "python3",
      "display_name": "Python 3"
    },
    "language_info": {
      "name": "python"
    }
  },
  "cells": [
    {
      "cell_type": "markdown",
      "source": [
        "## Hackerman(PRIMEDICE)\n",
        "\n",
        "- https://www.codechef.com/problems/PRIMEDICE"
      ],
      "metadata": {
        "id": "2rT-R0qJ3C4V"
      }
    },
    {
      "cell_type": "code",
      "execution_count": 2,
      "metadata": {
        "id": "-_WPE2YX2gqP",
        "colab": {
          "base_uri": "https://localhost:8080/"
        },
        "outputId": "324bb9d4-98cd-4f6e-8fe3-d84e05b09760"
      },
      "outputs": [
        {
          "output_type": "stream",
          "name": "stdout",
          "text": [
            "False\n"
          ]
        }
      ],
      "source": [
        "\n",
        "from math import sqrt\n",
        "# n is the number to be check whether it is prime or not\n",
        "n = 1\n",
        "\n",
        "# this flag maintains status whether the n is prime or not\n",
        "prime_flag = 0\n",
        " \n",
        "if(n > 1):\n",
        "    for i in range(2, int(sqrt(n)) + 1):\n",
        "        if (n % i == 0):\n",
        "            prime_flag = 1\n",
        "            break\n",
        "    if (prime_flag == 0):\n",
        "        print(\"True\")\n",
        "    else:\n",
        "        print(\"False\")\n",
        "else:\n",
        "    print(\"False\")"
      ]
    },
    {
      "cell_type": "code",
      "source": [
        "from math import sqrt\n",
        "def prime_check(n):\n",
        "  # this flag maintains status whether the n is prime or not\n",
        "  prime_flag = 0\n",
        " \n",
        "  if(n > 1):\n",
        "      for i in range(2, int(sqrt(n)) + 1):\n",
        "          if (n % i == 0):\n",
        "              prime_flag = 1\n",
        "              break\n",
        "      if (prime_flag == 0):\n",
        "          print(\"Alice\")\n",
        "      else:\n",
        "          print(\"Bob\")\n",
        "  else:\n",
        "      print(\"Bob\")\n",
        "\n"
      ],
      "metadata": {
        "id": "3R_m6y2D5a_i"
      },
      "execution_count": 3,
      "outputs": []
    },
    {
      "cell_type": "code",
      "source": [
        "prime_check(4)"
      ],
      "metadata": {
        "colab": {
          "base_uri": "https://localhost:8080/"
        },
        "id": "refW4W-b5s9M",
        "outputId": "f0258050-d32e-4c10-e67c-540839eff9dc"
      },
      "execution_count": 4,
      "outputs": [
        {
          "output_type": "stream",
          "name": "stdout",
          "text": [
            "Bob\n"
          ]
        }
      ]
    },
    {
      "cell_type": "code",
      "source": [
        "\"\"\"\n",
        "TIME COMPLEXITY: O(N)\n",
        "\"\"\"\n",
        "\n",
        "# cook your dish here\n",
        "T = int(input())\n",
        "\n",
        "\n",
        "\n",
        "for _ in range(T):\n",
        "    A, B = map(int, input().split())\n",
        "\n",
        "    prime_check(A+B)\n",
        "\n"
      ],
      "metadata": {
        "colab": {
          "base_uri": "https://localhost:8080/"
        },
        "id": "tRTs0fuw5L1X",
        "outputId": "b7aaba19-365d-4aff-9653-3d823f63389e"
      },
      "execution_count": 5,
      "outputs": [
        {
          "output_type": "stream",
          "name": "stdout",
          "text": [
            "1\n",
            "5 17\n",
            "Bob\n"
          ]
        }
      ]
    },
    {
      "cell_type": "markdown",
      "source": [
        "## Candies(CNDY)\n",
        "\n",
        "- https://www.codechef.com/problems/CNDY"
      ],
      "metadata": {
        "id": "PUYWN0RO3nXB"
      }
    },
    {
      "cell_type": "code",
      "source": [
        "\"\"\"\n",
        "TIME COMPLEXITY: O(2N)\n",
        "\"\"\"\n",
        "\n",
        "T = int(input())\n",
        "\n",
        "for _ in range(T):\n",
        "    N = int(input())\n",
        "    \n",
        "    A = list(map(int, input().split()))\n",
        "    flag = 0\n",
        "    freq = {}\n",
        "    for item in A:\n",
        "        if (item in freq):\n",
        "            freq[item] += 1\n",
        "        else:\n",
        "            freq[item] = 1\n",
        " \n",
        "    for key, value in freq.items():\n",
        "        if value >2:\n",
        "          flag = 1\n",
        "          break\n",
        "    if flag==1:\n",
        "      print(\"NO\")\n",
        "    else:\n",
        "      print(\"YES\")     \n",
        "    \n"
      ],
      "metadata": {
        "colab": {
          "base_uri": "https://localhost:8080/"
        },
        "id": "r_FfYqaz_BWF",
        "outputId": "f4467d21-8ad6-47f5-b75b-cb9100438af4"
      },
      "execution_count": null,
      "outputs": [
        {
          "output_type": "stream",
          "name": "stdout",
          "text": [
            "1\n",
            "4\n",
            "8 7 9 8 4 6 2 8\n",
            "NO\n"
          ]
        }
      ]
    },
    {
      "cell_type": "markdown",
      "source": [
        "## Nahanne Jaa(EQSARRAY)\n",
        "\n",
        "NOTE: NOT WORKING YET ⏰  ❌\n",
        "\n",
        "  - https://www.codechef.com/problems/EQSARRAY"
      ],
      "metadata": {
        "id": "Hcw09WeW4LU0"
      }
    },
    {
      "cell_type": "code",
      "source": [
        "import math\n",
        "N = 6\n",
        "A = list(map(int, input().split()))\n",
        "L = 1\n",
        "R = 6\n",
        "x = (L+R)/2\n",
        "math.floor(x)"
      ],
      "metadata": {
        "colab": {
          "base_uri": "https://localhost:8080/"
        },
        "id": "2zobK4MsEHga",
        "outputId": "a614ccd5-3326-48ab-ade6-b4d19cb42052"
      },
      "execution_count": null,
      "outputs": [
        {
          "name": "stdout",
          "output_type": "stream",
          "text": [
            "1 2 3 4 5 6\n"
          ]
        },
        {
          "output_type": "execute_result",
          "data": {
            "text/plain": [
              "3"
            ]
          },
          "metadata": {},
          "execution_count": 18
        }
      ]
    },
    {
      "cell_type": "code",
      "source": [
        "T = int(input())\n",
        "\n",
        "for _ in range(T):\n",
        "  N, K = map(int, input().split(\" \"))\n",
        "  A = list(map(int, input().split()))\n",
        "  L = 1\n",
        "  R = N\n",
        "  x = (L+R)/2\n",
        "  ei = math.floor(x)\n",
        "  print(ei)\n",
        "  if K==A[0]:\n",
        "    for i in range(N):\n",
        "      A[i] = A[ei-2] \n",
        "  else:\n",
        "    for i in range(N):\n",
        "      A[i] = A[ei-1] \n",
        "\n",
        "  if len(set(A))==1 and A[0]==K:\n",
        "    print(\"YES\")\n",
        "  else:\n",
        "    print(\"NO\")\n",
        "\n"
      ],
      "metadata": {
        "colab": {
          "base_uri": "https://localhost:8080/"
        },
        "id": "8Eqa_QqUEwSu",
        "outputId": "a6d83e84-b325-497d-8e79-340bd771c23b"
      },
      "execution_count": null,
      "outputs": [
        {
          "output_type": "stream",
          "name": "stdout",
          "text": [
            "1\n",
            "5 5\n",
            "7 -5 5 -2 5\n",
            "3\n",
            "YES\n"
          ]
        }
      ]
    },
    {
      "cell_type": "code",
      "source": [
        "T = int(input())\n",
        "\n",
        "for _ in range(T):\n",
        "  N, K = map(int, input().split(\" \"))\n",
        "  A = list(map(int, input().split()))\n",
        "\n",
        "  for r in range(N,0,-1):\n",
        "    for l in range(1, N+1):\n",
        "      AA = A[l-1:r+1]\n",
        "      x= (l+r)/2\n",
        "      ei = math.floor(x)\n",
        "      if K==AA[0]:\n",
        "        for i in range(len(AA)):\n",
        "          AA[i]==A[ei-2]\n",
        "      else:\n",
        "        for i in range(len(AA)):\n",
        "          AA[i] = A[ei-1]\n",
        "      for j in range(l-1, r+2):\n",
        "        A[j] = AA\n",
        "  if len(set(A))==1 and A[0]==K:\n",
        "    print(\"YES\")\n",
        "  else:\n",
        "    print(\"NO\")\n",
        "\n",
        "\n"
      ],
      "metadata": {
        "id": "1FOGlh5AI309"
      },
      "execution_count": null,
      "outputs": []
    },
    {
      "cell_type": "code",
      "source": [
        "A = [11, 22, 33, 44]\n",
        "B = A[1:2+1]\n",
        "print(B)"
      ],
      "metadata": {
        "colab": {
          "base_uri": "https://localhost:8080/"
        },
        "id": "tVHa-GKALS5z",
        "outputId": "54163837-f217-4eae-9459-0337ed5b4d9e"
      },
      "execution_count": null,
      "outputs": [
        {
          "output_type": "stream",
          "name": "stdout",
          "text": [
            "[22, 33]\n"
          ]
        }
      ]
    },
    {
      "cell_type": "code",
      "source": [
        "N = 5\n",
        "for r in range(N,0,-1):\n",
        "  print(r)"
      ],
      "metadata": {
        "colab": {
          "base_uri": "https://localhost:8080/"
        },
        "id": "VunrnjY6KlEA",
        "outputId": "589ab2d8-9ffc-4260-e981-81edfb8b96a0"
      },
      "execution_count": null,
      "outputs": [
        {
          "output_type": "stream",
          "name": "stdout",
          "text": [
            "5\n",
            "4\n",
            "3\n",
            "2\n",
            "1\n"
          ]
        }
      ]
    },
    {
      "cell_type": "code",
      "source": [
        "N = 5\n",
        "for l in range(1,N+1):\n",
        "  print(l)"
      ],
      "metadata": {
        "colab": {
          "base_uri": "https://localhost:8080/"
        },
        "id": "9TOeihgfKr_d",
        "outputId": "0ab4abd8-0516-4efd-86f2-6791dcfbfef2"
      },
      "execution_count": null,
      "outputs": [
        {
          "output_type": "stream",
          "name": "stdout",
          "text": [
            "1\n",
            "2\n",
            "3\n",
            "4\n",
            "5\n"
          ]
        }
      ]
    },
    {
      "cell_type": "code",
      "source": [],
      "metadata": {
        "id": "EMnzHGj4K6lf"
      },
      "execution_count": null,
      "outputs": []
    }
  ]
}